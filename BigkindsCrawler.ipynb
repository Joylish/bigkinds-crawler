{
 "cells": [
  {
   "cell_type": "code",
   "execution_count": 8,
   "metadata": {
    "collapsed": false
   },
   "outputs": [],
   "source": [
    "from selenium import webdriver\n",
    "from selenium.webdriver.support.ui import WebDriverWait\n",
    "from time import sleep\n",
    "import random\n",
    "import sys\n",
    "import re\n",
    "import datetime\n",
    "from selenium.webdriver.common.keys import Keys\n",
    "import csv\n",
    "import pandas as pd\n",
    "\n"
   ]
  },
  {
   "cell_type": "code",
   "execution_count": null,
   "metadata": {
    "collapsed": false,
    "scrolled": true
   },
   "outputs": [],
   "source": [
    "result_list = []\n",
    "class Scrapper():\n",
    "    counter = 0\n",
    "    def setup(self):\n",
    "        options = webdriver.ChromeOptions()\n",
    "        options.add_argument(\"window-size=1920x1080\")\n",
    "        options.add_argument(\"disable-gpu\")\n",
    "        self.driver = webdriver.Chrome('C:/chromedriver/chromedriver.exe')\n",
    "\n",
    "        self.driver.set_page_load_timeout(30)\n",
    "        \n",
    "    def test(self, keyword, year, start=1, end=None):\n",
    "        result = []\n",
    "        \n",
    "        self.counter = int(start) - 1\n",
    "        p = 0\n",
    "        isContinue = False\n",
    "        if (start != 0):\n",
    "            p = int(start) / 100\n",
    "            p = int(p)+1\n",
    "            isContinue = True\n",
    "        self.setup()\n",
    "        self.driver.get(\"https://www.bigkinds.or.kr/v2/news/index.do\")\n",
    "        self.wait = WebDriverWait(self.driver, 10)\n",
    "        self.driver.find_element_by_css_selector(\"span.caret\").click()\n",
    "        self.driver.find_element_by_css_selector(\"button.btn.btn-sm.w-100.main-search-filters__dropdown__btn.date-select-btn\").click()\n",
    "        self.driver.find_element_by_css_selector(\"button#date-confirm-btn\").click()\n",
    "        sleep(random.randint(5, 20))\n",
    "        self.driver.find_element_by_css_selector(\"input#total-search-key\").send_keys(keyword)\n",
    "        sleep(random.randint(5, 20))\n",
    "        self.driver.find_element_by_css_selector(\"span.input-group-btn\").click()\n",
    "        sleep(random.randint(20, 30))\n",
    "        self.driver.find_element_by_css_selector(\"input#filter-date-\"+str(year)).click()\n",
    "        sleep(random.randint(20, 30))\n",
    "        for op in self.driver.find_elements_by_css_selector(\"option\"):\n",
    "            if op.get_attribute(\"value\") == \"100\":\n",
    "                op.click()\n",
    "                sleep(random.randint(20, 30))\n",
    "                break\n",
    "        total = int(self.driver.find_element_by_css_selector(\"span#total-news-cnt\").text.replace(\",\",\"\"))\n",
    "        page = int(total/100) +1\n",
    "        if (isContinue): count = (p-1) * 100\n",
    "        else: count = 0\n",
    "        #count = 0\n",
    "        dup_cnt = 0\n",
    "        for i in range(1, 3):#page 수 만큼\n",
    "            print('i is', i)\n",
    "            if (isContinue):\n",
    "                if ((i//7) < (p//7)): continue\n",
    "                elif (i < p) and (i%7 == 0):\n",
    "                    self.driver.find_element_by_css_selector('#news-results-pagination > ul > li:nth-child(10) > a').click()\n",
    "                    sleep(random.randint(20, 30))\n",
    "                    continue\n",
    "                elif (i < p): continue\n",
    "            for pnum in self.driver.find_elements_by_css_selector(\"a.page-link\"):\n",
    "                print('pnum:', pnum.text)\n",
    "                if (str(i) == pnum.text) or (pnum.text == '다음'):\n",
    "                    print('str(i):', str(i))\n",
    "                    pnum.click()\n",
    "                    sleep(random.randint(20, 30))\n",
    "                    break\n",
    "                    \n",
    "            #articles =  self.driver.find_elements_by_css_selector(\"h4.news-item__title.news-detail\")\n",
    "            #for i in articles :\n",
    "            #    print(i)\n",
    "            \n",
    "            for article in self.driver.find_elements_by_css_selector(\"#news-results > div > div > h4\"):\n",
    "                count+=1\n",
    "                if(isContinue):\n",
    "                    if(count < int(start)):\n",
    "                        continue\n",
    "                id = article.get_attribute(\"data-newsid\")\n",
    "                title = article.text\n",
    "                print(id,title)\n",
    "                \n",
    "                article.click()\n",
    "                sleep(random.randint(5, 20))\n",
    "                temp = \"\"\n",
    "                for hitem in self.driver.find_elements_by_css_selector(\"span.news-detail__header-item\"):\n",
    "                    temp += hitem.text + \"\\t\"\n",
    "                headline = temp\n",
    "                try:\n",
    "                    written_at = re.findall('\\d\\d\\d\\d-\\d\\d-\\d\\d', headline)[0]\n",
    "                except Exception as e:\n",
    "                    written_at = None\n",
    "                content = self.driver.find_element_by_css_selector(\"div.news-detail__content\").text\n",
    "                ##scrapped_at = datetime.datetime.now().strftime('%Y-%m-%d %H:%M:%S')\n",
    "                self.counter += 1\n",
    "                if (end == None): pass\n",
    "                elif (self.counter > end):\n",
    "                    print('Counter reaches the endpoint. Goodbye!')\n",
    "                    self.tearDown()\n",
    "                    return 0\n",
    "                result.append([id,title,written_at,content])\n",
    "                result_list.append([id,title,written_at,content])\n",
    "                #print(result)\n",
    "                for a in self.driver.find_elements_by_css_selector(\"button.btn.btn-default\"):\n",
    "                    if (a.text == \"닫기\"):\n",
    "                        sleep(random.randint(5, 20))\n",
    "                        a.click()\n",
    "                        sleep(random.randint(5, 20))\n",
    "            sleep(random.randint(60, 90))\n",
    "        self.tearDown()\n",
    "        \n",
    "        data = pd.DataFrame(result)\n",
    "        data.columns = ['id','title','written_at','content']\n",
    "        data.to_csv('result.csv',encoding='cp949')\n",
    "    \n",
    "    def tearDown(self):\n",
    "        self.driver.close()\n",
    "                \n",
    "if __name__ == '__main__':\n",
    "    s = Scrapper()\n",
    "    keyword = \"취업\"\n",
    "    s.test(keyword, 2020, 0)\n",
    "            \n",
    "\n",
    "    "
   ]
  },
  {
   "cell_type": "code",
   "execution_count": 17,
   "metadata": {
    "collapsed": false
   },
   "outputs": [
    {
     "name": "stdout",
     "output_type": "stream",
     "text": [
      "[[2, 1, 2, 1]]\n"
     ]
    }
   ],
   "source": [
    "\n",
    "    \n",
    "    "
   ]
  },
  {
   "cell_type": "code",
   "execution_count": 18,
   "metadata": {
    "collapsed": false
   },
   "outputs": [
    {
     "name": "stdout",
     "output_type": "stream",
     "text": [
      "[[2, 1, 2, 1]]\n"
     ]
    }
   ],
   "source": []
  }
 ],
 "metadata": {
  "anaconda-cloud": {},
  "kernelspec": {
   "display_name": "Python [default]",
   "language": "python",
   "name": "python3"
  },
  "language_info": {
   "codemirror_mode": {
    "name": "ipython",
    "version": 3
   },
   "file_extension": ".py",
   "mimetype": "text/x-python",
   "name": "python",
   "nbconvert_exporter": "python",
   "pygments_lexer": "ipython3",
   "version": "3.5.2"
  }
 },
 "nbformat": 4,
 "nbformat_minor": 1
}
